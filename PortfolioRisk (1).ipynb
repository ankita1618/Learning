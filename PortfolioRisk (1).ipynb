{
 "cells": [
  {
   "cell_type": "markdown",
   "metadata": {},
   "source": [
    "## Riskiness of Portfolio\n",
    "\n",
    "\n",
    "Variance of portfolio = Weights transposed * (Covariance matrix * Weights)"
   ]
  },
  {
   "cell_type": "code",
   "execution_count": 84,
   "metadata": {},
   "outputs": [],
   "source": [
    "from pandas_datareader import data as web\n",
    "import pandas as pd\n",
    "import numpy as np\n",
    "import matplotlib.pyplot as plt\n",
    "%matplotlib inline"
   ]
  },
  {
   "cell_type": "code",
   "execution_count": 85,
   "metadata": {},
   "outputs": [
    {
     "data": {
      "text/html": [
       "<div>\n",
       "<style scoped>\n",
       "    .dataframe tbody tr th:only-of-type {\n",
       "        vertical-align: middle;\n",
       "    }\n",
       "\n",
       "    .dataframe tbody tr th {\n",
       "        vertical-align: top;\n",
       "    }\n",
       "\n",
       "    .dataframe thead th {\n",
       "        text-align: right;\n",
       "    }\n",
       "</style>\n",
       "<table border=\"1\" class=\"dataframe\">\n",
       "  <thead>\n",
       "    <tr style=\"text-align: right;\">\n",
       "      <th></th>\n",
       "      <th>DMART.NS</th>\n",
       "      <th>RELIANCE.NS</th>\n",
       "      <th>SUNFLAG.NS</th>\n",
       "      <th>TITAN.NS</th>\n",
       "      <th>SBIN.NS</th>\n",
       "    </tr>\n",
       "    <tr>\n",
       "      <th>Date</th>\n",
       "      <th></th>\n",
       "      <th></th>\n",
       "      <th></th>\n",
       "      <th></th>\n",
       "      <th></th>\n",
       "    </tr>\n",
       "  </thead>\n",
       "  <tbody>\n",
       "    <tr>\n",
       "      <td>2018-01-01</td>\n",
       "      <td>1170.500000</td>\n",
       "      <td>895.929260</td>\n",
       "      <td>79.519279</td>\n",
       "      <td>834.648621</td>\n",
       "      <td>307.100006</td>\n",
       "    </tr>\n",
       "    <tr>\n",
       "      <td>2018-01-02</td>\n",
       "      <td>1160.000000</td>\n",
       "      <td>897.308044</td>\n",
       "      <td>78.837967</td>\n",
       "      <td>827.501099</td>\n",
       "      <td>303.250000</td>\n",
       "    </tr>\n",
       "    <tr>\n",
       "      <td>2018-01-03</td>\n",
       "      <td>1184.550049</td>\n",
       "      <td>900.902649</td>\n",
       "      <td>80.443932</td>\n",
       "      <td>838.418213</td>\n",
       "      <td>302.850006</td>\n",
       "    </tr>\n",
       "    <tr>\n",
       "      <td>2018-01-04</td>\n",
       "      <td>1203.099976</td>\n",
       "      <td>906.319092</td>\n",
       "      <td>81.855217</td>\n",
       "      <td>874.253967</td>\n",
       "      <td>308.500000</td>\n",
       "    </tr>\n",
       "    <tr>\n",
       "      <td>2018-01-05</td>\n",
       "      <td>1243.400024</td>\n",
       "      <td>909.224243</td>\n",
       "      <td>80.979248</td>\n",
       "      <td>890.703064</td>\n",
       "      <td>306.350006</td>\n",
       "    </tr>\n",
       "  </tbody>\n",
       "</table>\n",
       "</div>"
      ],
      "text/plain": [
       "               DMART.NS  RELIANCE.NS  SUNFLAG.NS    TITAN.NS     SBIN.NS\n",
       "Date                                                                    \n",
       "2018-01-01  1170.500000   895.929260   79.519279  834.648621  307.100006\n",
       "2018-01-02  1160.000000   897.308044   78.837967  827.501099  303.250000\n",
       "2018-01-03  1184.550049   900.902649   80.443932  838.418213  302.850006\n",
       "2018-01-04  1203.099976   906.319092   81.855217  874.253967  308.500000\n",
       "2018-01-05  1243.400024   909.224243   80.979248  890.703064  306.350006"
      ]
     },
     "execution_count": 85,
     "metadata": {},
     "output_type": "execute_result"
    }
   ],
   "source": [
    "assets = ['DMART.NS', 'RELIANCE.NS', 'SUNFLAG.NS', 'TITAN.NS', 'SBIN.NS']\n",
    "\n",
    "df= pd.DataFrame()\n",
    "\n",
    "for stock in assets:\n",
    "    df[stock] = web.DataReader(stock, data_source='yahoo', start ='2018-1-1', end = '2020-1-5')['Adj Close']\n",
    "    \n",
    "df.head()"
   ]
  },
  {
   "cell_type": "code",
   "execution_count": 86,
   "metadata": {},
   "outputs": [
    {
     "data": {
      "text/html": [
       "<div>\n",
       "<style scoped>\n",
       "    .dataframe tbody tr th:only-of-type {\n",
       "        vertical-align: middle;\n",
       "    }\n",
       "\n",
       "    .dataframe tbody tr th {\n",
       "        vertical-align: top;\n",
       "    }\n",
       "\n",
       "    .dataframe thead th {\n",
       "        text-align: right;\n",
       "    }\n",
       "</style>\n",
       "<table border=\"1\" class=\"dataframe\">\n",
       "  <thead>\n",
       "    <tr style=\"text-align: right;\">\n",
       "      <th></th>\n",
       "      <th>DMART.NS</th>\n",
       "      <th>RELIANCE.NS</th>\n",
       "      <th>SUNFLAG.NS</th>\n",
       "      <th>TITAN.NS</th>\n",
       "      <th>SBIN.NS</th>\n",
       "    </tr>\n",
       "    <tr>\n",
       "      <th>Date</th>\n",
       "      <th></th>\n",
       "      <th></th>\n",
       "      <th></th>\n",
       "      <th></th>\n",
       "      <th></th>\n",
       "    </tr>\n",
       "  </thead>\n",
       "  <tbody>\n",
       "    <tr>\n",
       "      <td>2018-01-01</td>\n",
       "      <td>NaN</td>\n",
       "      <td>NaN</td>\n",
       "      <td>NaN</td>\n",
       "      <td>NaN</td>\n",
       "      <td>NaN</td>\n",
       "    </tr>\n",
       "    <tr>\n",
       "      <td>2018-01-02</td>\n",
       "      <td>-0.008971</td>\n",
       "      <td>0.001539</td>\n",
       "      <td>-0.008568</td>\n",
       "      <td>-0.008564</td>\n",
       "      <td>-0.012537</td>\n",
       "    </tr>\n",
       "    <tr>\n",
       "      <td>2018-01-03</td>\n",
       "      <td>0.021164</td>\n",
       "      <td>0.004006</td>\n",
       "      <td>0.020370</td>\n",
       "      <td>0.013193</td>\n",
       "      <td>-0.001319</td>\n",
       "    </tr>\n",
       "    <tr>\n",
       "      <td>2018-01-04</td>\n",
       "      <td>0.015660</td>\n",
       "      <td>0.006012</td>\n",
       "      <td>0.017544</td>\n",
       "      <td>0.042742</td>\n",
       "      <td>0.018656</td>\n",
       "    </tr>\n",
       "    <tr>\n",
       "      <td>2018-01-05</td>\n",
       "      <td>0.033497</td>\n",
       "      <td>0.003205</td>\n",
       "      <td>-0.010701</td>\n",
       "      <td>0.018815</td>\n",
       "      <td>-0.006969</td>\n",
       "    </tr>\n",
       "  </tbody>\n",
       "</table>\n",
       "</div>"
      ],
      "text/plain": [
       "            DMART.NS  RELIANCE.NS  SUNFLAG.NS  TITAN.NS   SBIN.NS\n",
       "Date                                                             \n",
       "2018-01-01       NaN          NaN         NaN       NaN       NaN\n",
       "2018-01-02 -0.008971     0.001539   -0.008568 -0.008564 -0.012537\n",
       "2018-01-03  0.021164     0.004006    0.020370  0.013193 -0.001319\n",
       "2018-01-04  0.015660     0.006012    0.017544  0.042742  0.018656\n",
       "2018-01-05  0.033497     0.003205   -0.010701  0.018815 -0.006969"
      ]
     },
     "execution_count": 86,
     "metadata": {},
     "output_type": "execute_result"
    }
   ],
   "source": [
    "port_returns = df.pct_change()\n",
    "port_returns.head()"
   ]
  },
  {
   "cell_type": "code",
   "execution_count": 87,
   "metadata": {},
   "outputs": [
    {
     "data": {
      "text/html": [
       "<div>\n",
       "<style scoped>\n",
       "    .dataframe tbody tr th:only-of-type {\n",
       "        vertical-align: middle;\n",
       "    }\n",
       "\n",
       "    .dataframe tbody tr th {\n",
       "        vertical-align: top;\n",
       "    }\n",
       "\n",
       "    .dataframe thead th {\n",
       "        text-align: right;\n",
       "    }\n",
       "</style>\n",
       "<table border=\"1\" class=\"dataframe\">\n",
       "  <thead>\n",
       "    <tr style=\"text-align: right;\">\n",
       "      <th></th>\n",
       "      <th>DMART.NS</th>\n",
       "      <th>RELIANCE.NS</th>\n",
       "      <th>SUNFLAG.NS</th>\n",
       "      <th>TITAN.NS</th>\n",
       "      <th>SBIN.NS</th>\n",
       "    </tr>\n",
       "  </thead>\n",
       "  <tbody>\n",
       "    <tr>\n",
       "      <td>DMART.NS</td>\n",
       "      <td>0.000436</td>\n",
       "      <td>0.000088</td>\n",
       "      <td>0.000143</td>\n",
       "      <td>0.000106</td>\n",
       "      <td>0.000112</td>\n",
       "    </tr>\n",
       "    <tr>\n",
       "      <td>RELIANCE.NS</td>\n",
       "      <td>0.000088</td>\n",
       "      <td>0.000285</td>\n",
       "      <td>0.000087</td>\n",
       "      <td>0.000082</td>\n",
       "      <td>0.000091</td>\n",
       "    </tr>\n",
       "    <tr>\n",
       "      <td>SUNFLAG.NS</td>\n",
       "      <td>0.000143</td>\n",
       "      <td>0.000087</td>\n",
       "      <td>0.001050</td>\n",
       "      <td>0.000127</td>\n",
       "      <td>0.000229</td>\n",
       "    </tr>\n",
       "    <tr>\n",
       "      <td>TITAN.NS</td>\n",
       "      <td>0.000106</td>\n",
       "      <td>0.000082</td>\n",
       "      <td>0.000127</td>\n",
       "      <td>0.000330</td>\n",
       "      <td>0.000094</td>\n",
       "    </tr>\n",
       "    <tr>\n",
       "      <td>SBIN.NS</td>\n",
       "      <td>0.000112</td>\n",
       "      <td>0.000091</td>\n",
       "      <td>0.000229</td>\n",
       "      <td>0.000094</td>\n",
       "      <td>0.000439</td>\n",
       "    </tr>\n",
       "  </tbody>\n",
       "</table>\n",
       "</div>"
      ],
      "text/plain": [
       "             DMART.NS  RELIANCE.NS  SUNFLAG.NS  TITAN.NS   SBIN.NS\n",
       "DMART.NS     0.000436     0.000088    0.000143  0.000106  0.000112\n",
       "RELIANCE.NS  0.000088     0.000285    0.000087  0.000082  0.000091\n",
       "SUNFLAG.NS   0.000143     0.000087    0.001050  0.000127  0.000229\n",
       "TITAN.NS     0.000106     0.000082    0.000127  0.000330  0.000094\n",
       "SBIN.NS      0.000112     0.000091    0.000229  0.000094  0.000439"
      ]
     },
     "execution_count": 87,
     "metadata": {},
     "output_type": "execute_result"
    }
   ],
   "source": [
    "covariance_matrix = port_returns.cov()\n",
    "covariance_matrix"
   ]
  },
  {
   "cell_type": "code",
   "execution_count": 88,
   "metadata": {},
   "outputs": [
    {
     "data": {
      "text/html": [
       "<div>\n",
       "<style scoped>\n",
       "    .dataframe tbody tr th:only-of-type {\n",
       "        vertical-align: middle;\n",
       "    }\n",
       "\n",
       "    .dataframe tbody tr th {\n",
       "        vertical-align: top;\n",
       "    }\n",
       "\n",
       "    .dataframe thead th {\n",
       "        text-align: right;\n",
       "    }\n",
       "</style>\n",
       "<table border=\"1\" class=\"dataframe\">\n",
       "  <thead>\n",
       "    <tr style=\"text-align: right;\">\n",
       "      <th></th>\n",
       "      <th>DMART.NS</th>\n",
       "      <th>RELIANCE.NS</th>\n",
       "      <th>SUNFLAG.NS</th>\n",
       "      <th>TITAN.NS</th>\n",
       "      <th>SBIN.NS</th>\n",
       "    </tr>\n",
       "  </thead>\n",
       "  <tbody>\n",
       "    <tr>\n",
       "      <td>DMART.NS</td>\n",
       "      <td>0.172558</td>\n",
       "      <td>0.032561</td>\n",
       "      <td>0.053590</td>\n",
       "      <td>0.039612</td>\n",
       "      <td>0.041749</td>\n",
       "    </tr>\n",
       "    <tr>\n",
       "      <td>RELIANCE.NS</td>\n",
       "      <td>0.032561</td>\n",
       "      <td>0.109770</td>\n",
       "      <td>0.032169</td>\n",
       "      <td>0.030222</td>\n",
       "      <td>0.033698</td>\n",
       "    </tr>\n",
       "    <tr>\n",
       "      <td>SUNFLAG.NS</td>\n",
       "      <td>0.053590</td>\n",
       "      <td>0.032169</td>\n",
       "      <td>0.466847</td>\n",
       "      <td>0.047361</td>\n",
       "      <td>0.087163</td>\n",
       "    </tr>\n",
       "    <tr>\n",
       "      <td>TITAN.NS</td>\n",
       "      <td>0.039612</td>\n",
       "      <td>0.030222</td>\n",
       "      <td>0.047361</td>\n",
       "      <td>0.127855</td>\n",
       "      <td>0.034882</td>\n",
       "    </tr>\n",
       "    <tr>\n",
       "      <td>SBIN.NS</td>\n",
       "      <td>0.041749</td>\n",
       "      <td>0.033698</td>\n",
       "      <td>0.087163</td>\n",
       "      <td>0.034882</td>\n",
       "      <td>0.173603</td>\n",
       "    </tr>\n",
       "  </tbody>\n",
       "</table>\n",
       "</div>"
      ],
      "text/plain": [
       "             DMART.NS  RELIANCE.NS  SUNFLAG.NS  TITAN.NS   SBIN.NS\n",
       "DMART.NS     0.172558     0.032561    0.053590  0.039612  0.041749\n",
       "RELIANCE.NS  0.032561     0.109770    0.032169  0.030222  0.033698\n",
       "SUNFLAG.NS   0.053590     0.032169    0.466847  0.047361  0.087163\n",
       "TITAN.NS     0.039612     0.030222    0.047361  0.127855  0.034882\n",
       "SBIN.NS      0.041749     0.033698    0.087163  0.034882  0.173603"
      ]
     },
     "execution_count": 88,
     "metadata": {},
     "output_type": "execute_result"
    }
   ],
   "source": [
    "# Annual Returns - covariance matrix\n",
    "covariance_matrix = (pow(covariance_matrix+1,(365))-1)\n",
    "covariance_matrix"
   ]
  },
  {
   "cell_type": "code",
   "execution_count": 89,
   "metadata": {},
   "outputs": [
    {
     "data": {
      "text/plain": [
       "array([0.3613535 , 0.0006663 , 0.27062072, 0.1820824 , 0.18527709])"
      ]
     },
     "execution_count": 89,
     "metadata": {},
     "output_type": "execute_result"
    }
   ],
   "source": [
    "weights = np.random.random(5)\n",
    "weights = weights/sum(weights)\n",
    "weights"
   ]
  },
  {
   "cell_type": "code",
   "execution_count": 90,
   "metadata": {},
   "outputs": [
    {
     "data": {
      "text/plain": [
       "1.0"
      ]
     },
     "execution_count": 90,
     "metadata": {},
     "output_type": "execute_result"
    }
   ],
   "source": [
    "sum(weights)"
   ]
  },
  {
   "cell_type": "code",
   "execution_count": 91,
   "metadata": {},
   "outputs": [
    {
     "data": {
      "text/plain": [
       "0.10400864536022761"
      ]
     },
     "execution_count": 91,
     "metadata": {},
     "output_type": "execute_result"
    }
   ],
   "source": [
    "port_variance = np.dot(weights.T, np.dot(covariance_matrix, weights))\n",
    "port_variance"
   ]
  },
  {
   "cell_type": "code",
   "execution_count": 92,
   "metadata": {},
   "outputs": [
    {
     "name": "stdout",
     "output_type": "stream",
     "text": [
      "10.4%\n"
     ]
    }
   ],
   "source": [
    "print(str(round(port_variance, 4) * 100) + '%')"
   ]
  },
  {
   "cell_type": "code",
   "execution_count": 93,
   "metadata": {},
   "outputs": [
    {
     "data": {
      "text/plain": [
       "0.32250371371540454"
      ]
     },
     "execution_count": 93,
     "metadata": {},
     "output_type": "execute_result"
    }
   ],
   "source": [
    "# Standard Deviation\n",
    "\n",
    "port_risk = np.sqrt(np.dot(weights.T, np.dot(covariance_matrix, weights)))\n",
    "port_risk"
   ]
  },
  {
   "cell_type": "code",
   "execution_count": 99,
   "metadata": {},
   "outputs": [
    {
     "name": "stdout",
     "output_type": "stream",
     "text": [
      "Associated Risk of the Portfolio:  32.25%\n"
     ]
    }
   ],
   "source": [
    "print('Associated Risk of the Portfolio: ',str(round(port_risk, 4) * 100) + '%')"
   ]
  },
  {
   "cell_type": "code",
   "execution_count": 95,
   "metadata": {},
   "outputs": [
    {
     "data": {
      "text/plain": [
       "<matplotlib.axes._subplots.AxesSubplot at 0x22880cc6e88>"
      ]
     },
     "execution_count": 95,
     "metadata": {},
     "output_type": "execute_result"
    },
    {
     "data": {
      "image/png": "[encoded data removed]",
      "text/plain": [
       "<Figure size 864x432 with 1 Axes>"
      ]
     },
     "metadata": {
      "needs_background": "light"
     },
     "output_type": "display_data"
    }
   ],
   "source": [
    "port_returns.plot(figsize=(12 ,6))"
   ]
  },
  {
   "cell_type": "code",
   "execution_count": 96,
   "metadata": {},
   "outputs": [
    {
     "data": {
      "text/html": [
       "<div>\n",
       "<style scoped>\n",
       "    .dataframe tbody tr th:only-of-type {\n",
       "        vertical-align: middle;\n",
       "    }\n",
       "\n",
       "    .dataframe tbody tr th {\n",
       "        vertical-align: top;\n",
       "    }\n",
       "\n",
       "    .dataframe thead th {\n",
       "        text-align: right;\n",
       "    }\n",
       "</style>\n",
       "<table border=\"1\" class=\"dataframe\">\n",
       "  <thead>\n",
       "    <tr style=\"text-align: right;\">\n",
       "      <th></th>\n",
       "      <th>DMART.NS</th>\n",
       "      <th>RELIANCE.NS</th>\n",
       "      <th>SUNFLAG.NS</th>\n",
       "      <th>TITAN.NS</th>\n",
       "      <th>SBIN.NS</th>\n",
       "    </tr>\n",
       "  </thead>\n",
       "  <tbody>\n",
       "    <tr>\n",
       "      <td>count</td>\n",
       "      <td>490.000000</td>\n",
       "      <td>490.000000</td>\n",
       "      <td>490.000000</td>\n",
       "      <td>490.000000</td>\n",
       "      <td>490.000000</td>\n",
       "    </tr>\n",
       "    <tr>\n",
       "      <td>mean</td>\n",
       "      <td>0.001144</td>\n",
       "      <td>0.001236</td>\n",
       "      <td>-0.001003</td>\n",
       "      <td>0.000787</td>\n",
       "      <td>0.000387</td>\n",
       "    </tr>\n",
       "    <tr>\n",
       "      <td>std</td>\n",
       "      <td>0.020886</td>\n",
       "      <td>0.016893</td>\n",
       "      <td>0.032407</td>\n",
       "      <td>0.018157</td>\n",
       "      <td>0.020944</td>\n",
       "    </tr>\n",
       "    <tr>\n",
       "      <td>min</td>\n",
       "      <td>-0.110871</td>\n",
       "      <td>-0.068749</td>\n",
       "      <td>-0.103218</td>\n",
       "      <td>-0.122560</td>\n",
       "      <td>-0.073860</td>\n",
       "    </tr>\n",
       "    <tr>\n",
       "      <td>25%</td>\n",
       "      <td>-0.009903</td>\n",
       "      <td>-0.009475</td>\n",
       "      <td>-0.020135</td>\n",
       "      <td>-0.007794</td>\n",
       "      <td>-0.012617</td>\n",
       "    </tr>\n",
       "    <tr>\n",
       "      <td>50%</td>\n",
       "      <td>0.000066</td>\n",
       "      <td>0.000574</td>\n",
       "      <td>-0.003978</td>\n",
       "      <td>0.001291</td>\n",
       "      <td>-0.000193</td>\n",
       "    </tr>\n",
       "    <tr>\n",
       "      <td>75%</td>\n",
       "      <td>0.010709</td>\n",
       "      <td>0.011375</td>\n",
       "      <td>0.014734</td>\n",
       "      <td>0.009802</td>\n",
       "      <td>0.012484</td>\n",
       "    </tr>\n",
       "    <tr>\n",
       "      <td>max</td>\n",
       "      <td>0.088462</td>\n",
       "      <td>0.096937</td>\n",
       "      <td>0.198885</td>\n",
       "      <td>0.095690</td>\n",
       "      <td>0.100894</td>\n",
       "    </tr>\n",
       "  </tbody>\n",
       "</table>\n",
       "</div>"
      ],
      "text/plain": [
       "         DMART.NS  RELIANCE.NS  SUNFLAG.NS    TITAN.NS     SBIN.NS\n",
       "count  490.000000   490.000000  490.000000  490.000000  490.000000\n",
       "mean     0.001144     0.001236   -0.001003    0.000787    0.000387\n",
       "std      0.020886     0.016893    0.032407    0.018157    0.020944\n",
       "min     -0.110871    -0.068749   -0.103218   -0.122560   -0.073860\n",
       "25%     -0.009903    -0.009475   -0.020135   -0.007794   -0.012617\n",
       "50%      0.000066     0.000574   -0.003978    0.001291   -0.000193\n",
       "75%      0.010709     0.011375    0.014734    0.009802    0.012484\n",
       "max      0.088462     0.096937    0.198885    0.095690    0.100894"
      ]
     },
     "execution_count": 96,
     "metadata": {},
     "output_type": "execute_result"
    }
   ],
   "source": [
    "port_returns.describe()"
   ]
  },
  {
   "cell_type": "code",
   "execution_count": 97,
   "metadata": {},
   "outputs": [
    {
     "data": {
      "text/html": [
       "<div>\n",
       "<style scoped>\n",
       "    .dataframe tbody tr th:only-of-type {\n",
       "        vertical-align: middle;\n",
       "    }\n",
       "\n",
       "    .dataframe tbody tr th {\n",
       "        vertical-align: top;\n",
       "    }\n",
       "\n",
       "    .dataframe thead th {\n",
       "        text-align: right;\n",
       "    }\n",
       "</style>\n",
       "<table border=\"1\" class=\"dataframe\">\n",
       "  <thead>\n",
       "    <tr style=\"text-align: right;\">\n",
       "      <th></th>\n",
       "      <th>DMART.NS</th>\n",
       "      <th>RELIANCE.NS</th>\n",
       "      <th>SUNFLAG.NS</th>\n",
       "      <th>TITAN.NS</th>\n",
       "      <th>SBIN.NS</th>\n",
       "    </tr>\n",
       "  </thead>\n",
       "  <tbody>\n",
       "    <tr>\n",
       "      <td>DMART.NS</td>\n",
       "      <td>1.000000</td>\n",
       "      <td>0.248811</td>\n",
       "      <td>0.211325</td>\n",
       "      <td>0.280662</td>\n",
       "      <td>0.256177</td>\n",
       "    </tr>\n",
       "    <tr>\n",
       "      <td>RELIANCE.NS</td>\n",
       "      <td>0.248811</td>\n",
       "      <td>1.000000</td>\n",
       "      <td>0.158460</td>\n",
       "      <td>0.265944</td>\n",
       "      <td>0.256643</td>\n",
       "    </tr>\n",
       "    <tr>\n",
       "      <td>SUNFLAG.NS</td>\n",
       "      <td>0.211325</td>\n",
       "      <td>0.158460</td>\n",
       "      <td>1.000000</td>\n",
       "      <td>0.215470</td>\n",
       "      <td>0.337378</td>\n",
       "    </tr>\n",
       "    <tr>\n",
       "      <td>TITAN.NS</td>\n",
       "      <td>0.280662</td>\n",
       "      <td>0.265944</td>\n",
       "      <td>0.215470</td>\n",
       "      <td>1.000000</td>\n",
       "      <td>0.247024</td>\n",
       "    </tr>\n",
       "    <tr>\n",
       "      <td>SBIN.NS</td>\n",
       "      <td>0.256177</td>\n",
       "      <td>0.256643</td>\n",
       "      <td>0.337378</td>\n",
       "      <td>0.247024</td>\n",
       "      <td>1.000000</td>\n",
       "    </tr>\n",
       "  </tbody>\n",
       "</table>\n",
       "</div>"
      ],
      "text/plain": [
       "             DMART.NS  RELIANCE.NS  SUNFLAG.NS  TITAN.NS   SBIN.NS\n",
       "DMART.NS     1.000000     0.248811    0.211325  0.280662  0.256177\n",
       "RELIANCE.NS  0.248811     1.000000    0.158460  0.265944  0.256643\n",
       "SUNFLAG.NS   0.211325     0.158460    1.000000  0.215470  0.337378\n",
       "TITAN.NS     0.280662     0.265944    0.215470  1.000000  0.247024\n",
       "SBIN.NS      0.256177     0.256643    0.337378  0.247024  1.000000"
      ]
     },
     "execution_count": 97,
     "metadata": {},
     "output_type": "execute_result"
    }
   ],
   "source": [
    "#Correlation\n",
    "port_returns.corr()"
   ]
  },
  {
   "cell_type": "code",
   "execution_count": 98,
   "metadata": {},
   "outputs": [
    {
     "name": "stdout",
     "output_type": "stream",
     "text": [
      "Annual std dev of DMART:  0.33\n",
      "Annual std dev of RELIANCE:  0.27\n",
      "Annual std dev of SUNFLAG:  0.51\n",
      "Annual std dev of TITAN:  0.29\n",
      "Annual std dev of SBIN:  0.33\n"
     ]
    }
   ],
   "source": [
    "# annual standard deviation\n",
    "print('Annual std dev of DMART: ', (round(port_returns['DMART.NS'].std() * np.sqrt(250),2)))\n",
    "print('Annual std dev of RELIANCE: ', (round(port_returns['RELIANCE.NS'].std() * np.sqrt(250),2)))\n",
    "print('Annual std dev of SUNFLAG: ', (round(port_returns['SUNFLAG.NS'].std() * np.sqrt(250),2)))\n",
    "print('Annual std dev of TITAN: ', (round(port_returns['TITAN.NS'].std() * np.sqrt(250),2)))\n",
    "print('Annual std dev of SBIN: ', (round(port_returns['SBIN.NS'].std() * np.sqrt(250),2)))\n"
   ]
  }
 ],
 "metadata": {
  "kernelspec": {
   "display_name": "Python 3",
   "language": "python",
   "name": "python3"
  },
  "language_info": {
   "codemirror_mode": {
    "name": "ipython",
    "version": 3
   },
   "file_extension": ".py",
   "mimetype": "text/x-python",
   "name": "python",
   "nbconvert_exporter": "python",
   "pygments_lexer": "ipython3",
   "version": "3.7.4"
  }
 },
 "nbformat": 4,
 "nbformat_minor": 2
}
