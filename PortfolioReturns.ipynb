{
 "cells": [
  {
   "cell_type": "markdown",
   "metadata": {},
   "source": [
    "## Calculating Expected RoR for a Portfolio"
   ]
  },
  {
   "cell_type": "code",
   "execution_count": 42,
   "metadata": {},
   "outputs": [],
   "source": [
    "import numpy as np\n",
    "import pandas as pd\n",
    "from pandas_datareader import data as web\n",
    "import random"
   ]
  },
  {
   "cell_type": "code",
   "execution_count": 43,
   "metadata": {},
   "outputs": [],
   "source": [
    "dataset = pd.read_html('https://en.wikipedia.org/wiki/NIFTY_50')"
   ]
  },
  {
   "cell_type": "code",
   "execution_count": 44,
   "metadata": {},
   "outputs": [
    {
     "data": {
      "text/plain": [
       "Company Name    50\n",
       "Symbol          50\n",
       "Sector          50\n",
       "dtype: int64"
      ]
     },
     "execution_count": 44,
     "metadata": {},
     "output_type": "execute_result"
    }
   ],
   "source": [
    "table = dataset[1] \n",
    "table.count()"
   ]
  },
  {
   "cell_type": "code",
   "execution_count": 45,
   "metadata": {},
   "outputs": [
    {
     "data": {
      "text/plain": [
       "0    ADANIPORTS.NS\n",
       "1    ASIANPAINT.NS\n",
       "2      AXISBANK.NS\n",
       "3    BAJAJ-AUTO.NS\n",
       "4    BAJFINANCE.NS\n",
       "Name: Symbol, dtype: object"
      ]
     },
     "execution_count": 45,
     "metadata": {},
     "output_type": "execute_result"
    }
   ],
   "source": [
    "table['Symbol'].head()\n"
   ]
  },
  {
   "cell_type": "code",
   "execution_count": 46,
   "metadata": {},
   "outputs": [
    {
     "data": {
      "text/plain": [
       "['ADANIPORTS.NS',\n",
       " 'ASIANPAINT.NS',\n",
       " 'AXISBANK.NS',\n",
       " 'BAJAJ-AUTO.NS',\n",
       " 'BAJFINANCE.NS',\n",
       " 'BAJAJFINSV.NS',\n",
       " 'BHARTIARTL.NS',\n",
       " 'INFRATEL.NS',\n",
       " 'BPCL.NS',\n",
       " 'BRITANNIA.NS',\n",
       " 'CIPLA.NS',\n",
       " 'COALINDIA.NS',\n",
       " 'DRREDDY.NS',\n",
       " 'EICHERMOT.NS',\n",
       " 'GAIL.NS',\n",
       " 'GRASIM.NS',\n",
       " 'HCLTECH.NS',\n",
       " 'HDFC.NS',\n",
       " 'HDFCBANK.NS',\n",
       " 'HDFCLIFE.NS',\n",
       " 'HEROMOTOCO.NS',\n",
       " 'HINDALCO.NS',\n",
       " 'HINDUNILVR.NS',\n",
       " 'ICICIBANK.NS',\n",
       " 'INDUSINDBK.NS',\n",
       " 'INFY.NS',\n",
       " 'IOC.NS',\n",
       " 'ITC.NS',\n",
       " 'JSWSTEEL.NS',\n",
       " 'KOTAKBANK.NS',\n",
       " 'LT.NS',\n",
       " 'M&M.NS',\n",
       " 'MARUTI.NS',\n",
       " 'NESTLEIND.NS',\n",
       " 'NTPC.NS',\n",
       " 'ONGC.NS',\n",
       " 'POWERGRID.NS',\n",
       " 'RELIANCE.NS',\n",
       " 'SBIN.NS',\n",
       " 'SHREECEM.NS',\n",
       " 'SUNPHARMA.NS',\n",
       " 'TATAMOTORS.NS',\n",
       " 'TATASTEEL.NS',\n",
       " 'TCS.NS',\n",
       " 'TECHM.NS',\n",
       " 'TITAN.NS',\n",
       " 'ULTRACEMCO.NS',\n",
       " 'UPL.NS',\n",
       " 'WIPRO.NS',\n",
       " 'ZEEL.NS']"
      ]
     },
     "execution_count": 46,
     "metadata": {},
     "output_type": "execute_result"
    }
   ],
   "source": [
    "tickers = table['Symbol'].tolist()\n",
    "tickers"
   ]
  },
  {
   "cell_type": "code",
   "execution_count": 47,
   "metadata": {},
   "outputs": [
    {
     "data": {
      "text/plain": [
       "50"
      ]
     },
     "execution_count": 47,
     "metadata": {},
     "output_type": "execute_result"
    }
   ],
   "source": [
    "len(tickers)"
   ]
  },
  {
   "cell_type": "code",
   "execution_count": 48,
   "metadata": {},
   "outputs": [
    {
     "data": {
      "text/plain": [
       "['ITC.NS', 'WIPRO.NS', 'INFY.NS', 'ICICIBANK.NS', 'ADANIPORTS.NS']"
      ]
     },
     "execution_count": 48,
     "metadata": {},
     "output_type": "execute_result"
    }
   ],
   "source": [
    "#Making portfolio of randomly selected 5 stocks\n",
    "\n",
    "random_selection = random.sample(tickers,5)\n",
    "random_selection"
   ]
  },
  {
   "cell_type": "code",
   "execution_count": 90,
   "metadata": {},
   "outputs": [
    {
     "data": {
      "text/html": [
       "<div>\n",
       "<style scoped>\n",
       "    .dataframe tbody tr th:only-of-type {\n",
       "        vertical-align: middle;\n",
       "    }\n",
       "\n",
       "    .dataframe tbody tr th {\n",
       "        vertical-align: top;\n",
       "    }\n",
       "\n",
       "    .dataframe thead th {\n",
       "        text-align: right;\n",
       "    }\n",
       "</style>\n",
       "<table border=\"1\" class=\"dataframe\">\n",
       "  <thead>\n",
       "    <tr style=\"text-align: right;\">\n",
       "      <th></th>\n",
       "      <th>ITC.NS</th>\n",
       "      <th>WIPRO.NS</th>\n",
       "      <th>INFY.NS</th>\n",
       "      <th>ICICIBANK.NS</th>\n",
       "      <th>ADANIPORTS.NS</th>\n",
       "    </tr>\n",
       "    <tr>\n",
       "      <th>Date</th>\n",
       "      <th></th>\n",
       "      <th></th>\n",
       "      <th></th>\n",
       "      <th></th>\n",
       "      <th></th>\n",
       "    </tr>\n",
       "  </thead>\n",
       "  <tbody>\n",
       "    <tr>\n",
       "      <td>2018-01-01</td>\n",
       "      <td>240.196548</td>\n",
       "      <td>235.025269</td>\n",
       "      <td>479.569672</td>\n",
       "      <td>304.018951</td>\n",
       "      <td>393.092072</td>\n",
       "    </tr>\n",
       "    <tr>\n",
       "      <td>2018-01-02</td>\n",
       "      <td>238.777176</td>\n",
       "      <td>236.621048</td>\n",
       "      <td>477.783203</td>\n",
       "      <td>303.431122</td>\n",
       "      <td>390.878998</td>\n",
       "    </tr>\n",
       "    <tr>\n",
       "      <td>2018-01-03</td>\n",
       "      <td>239.143448</td>\n",
       "      <td>230.125061</td>\n",
       "      <td>473.885559</td>\n",
       "      <td>308.623840</td>\n",
       "      <td>400.960785</td>\n",
       "    </tr>\n",
       "    <tr>\n",
       "      <td>2018-01-04</td>\n",
       "      <td>239.509750</td>\n",
       "      <td>231.387238</td>\n",
       "      <td>471.148010</td>\n",
       "      <td>308.329926</td>\n",
       "      <td>403.124725</td>\n",
       "    </tr>\n",
       "    <tr>\n",
       "      <td>2018-01-05</td>\n",
       "      <td>240.746002</td>\n",
       "      <td>229.828079</td>\n",
       "      <td>469.570343</td>\n",
       "      <td>306.566315</td>\n",
       "      <td>416.845764</td>\n",
       "    </tr>\n",
       "  </tbody>\n",
       "</table>\n",
       "</div>"
      ],
      "text/plain": [
       "                ITC.NS    WIPRO.NS     INFY.NS  ICICIBANK.NS  ADANIPORTS.NS\n",
       "Date                                                                       \n",
       "2018-01-01  240.196548  235.025269  479.569672    304.018951     393.092072\n",
       "2018-01-02  238.777176  236.621048  477.783203    303.431122     390.878998\n",
       "2018-01-03  239.143448  230.125061  473.885559    308.623840     400.960785\n",
       "2018-01-04  239.509750  231.387238  471.148010    308.329926     403.124725\n",
       "2018-01-05  240.746002  229.828079  469.570343    306.566315     416.845764"
      ]
     },
     "execution_count": 90,
     "metadata": {},
     "output_type": "execute_result"
    }
   ],
   "source": [
    "# Pull adj closing prices with dataheader\n",
    "\n",
    "data = pd.DataFrame()\n",
    "\n",
    "for item in random_selection:\n",
    "    data[item] = web.DataReader(item,data_source='yahoo',start='01-01-2018')['Adj Close']\n",
    "data.head()"
   ]
  },
  {
   "cell_type": "code",
   "execution_count": 91,
   "metadata": {},
   "outputs": [
    {
     "name": "stdout",
     "output_type": "stream",
     "text": [
      "Start: \n",
      " Date\n",
      "2018-01-01    240.196548\n",
      "Name: ITC.NS, dtype: float64\n",
      "\n",
      "End:\n",
      "  Date\n",
      "2020-08-21    196.800003\n",
      "Name: ITC.NS, dtype: float64\n"
     ]
    }
   ],
   "source": [
    "#start and end of time series\n",
    "print('Start: \\n',data.iloc[:,0].head(1))\n",
    "print('\\nEnd:\\n ',data.iloc[:,0].tail(1))"
   ]
  },
  {
   "cell_type": "code",
   "execution_count": 95,
   "metadata": {},
   "outputs": [
    {
     "data": {
      "text/plain": [
       "32"
      ]
     },
     "execution_count": 95,
     "metadata": {},
     "output_type": "execute_result"
    }
   ],
   "source": [
    "#No. of months\n",
    "2*12+8"
   ]
  },
  {
   "cell_type": "code",
   "execution_count": 96,
   "metadata": {},
   "outputs": [
    {
     "data": {
      "text/html": [
       "<div>\n",
       "<style scoped>\n",
       "    .dataframe tbody tr th:only-of-type {\n",
       "        vertical-align: middle;\n",
       "    }\n",
       "\n",
       "    .dataframe tbody tr th {\n",
       "        vertical-align: top;\n",
       "    }\n",
       "\n",
       "    .dataframe thead th {\n",
       "        text-align: right;\n",
       "    }\n",
       "</style>\n",
       "<table border=\"1\" class=\"dataframe\">\n",
       "  <thead>\n",
       "    <tr style=\"text-align: right;\">\n",
       "      <th></th>\n",
       "      <th>ITC.NS</th>\n",
       "      <th>WIPRO.NS</th>\n",
       "      <th>INFY.NS</th>\n",
       "      <th>ICICIBANK.NS</th>\n",
       "      <th>ADANIPORTS.NS</th>\n",
       "    </tr>\n",
       "    <tr>\n",
       "      <th>Date</th>\n",
       "      <th></th>\n",
       "      <th></th>\n",
       "      <th></th>\n",
       "      <th></th>\n",
       "      <th></th>\n",
       "    </tr>\n",
       "  </thead>\n",
       "  <tbody>\n",
       "    <tr>\n",
       "      <td>2018-01-01</td>\n",
       "      <td>NaN</td>\n",
       "      <td>NaN</td>\n",
       "      <td>NaN</td>\n",
       "      <td>NaN</td>\n",
       "      <td>NaN</td>\n",
       "    </tr>\n",
       "    <tr>\n",
       "      <td>2018-01-02</td>\n",
       "      <td>-0.005909</td>\n",
       "      <td>0.006790</td>\n",
       "      <td>-0.003725</td>\n",
       "      <td>-0.001934</td>\n",
       "      <td>-0.005630</td>\n",
       "    </tr>\n",
       "    <tr>\n",
       "      <td>2018-01-03</td>\n",
       "      <td>0.001534</td>\n",
       "      <td>-0.027453</td>\n",
       "      <td>-0.008158</td>\n",
       "      <td>0.017113</td>\n",
       "      <td>0.025793</td>\n",
       "    </tr>\n",
       "    <tr>\n",
       "      <td>2018-01-04</td>\n",
       "      <td>0.001532</td>\n",
       "      <td>0.005485</td>\n",
       "      <td>-0.005777</td>\n",
       "      <td>-0.000952</td>\n",
       "      <td>0.005397</td>\n",
       "    </tr>\n",
       "    <tr>\n",
       "      <td>2018-01-05</td>\n",
       "      <td>0.005162</td>\n",
       "      <td>-0.006738</td>\n",
       "      <td>-0.003349</td>\n",
       "      <td>-0.005720</td>\n",
       "      <td>0.034037</td>\n",
       "    </tr>\n",
       "  </tbody>\n",
       "</table>\n",
       "</div>"
      ],
      "text/plain": [
       "              ITC.NS  WIPRO.NS   INFY.NS  ICICIBANK.NS  ADANIPORTS.NS\n",
       "Date                                                                 \n",
       "2018-01-01       NaN       NaN       NaN           NaN            NaN\n",
       "2018-01-02 -0.005909  0.006790 -0.003725     -0.001934      -0.005630\n",
       "2018-01-03  0.001534 -0.027453 -0.008158      0.017113       0.025793\n",
       "2018-01-04  0.001532  0.005485 -0.005777     -0.000952       0.005397\n",
       "2018-01-05  0.005162 -0.006738 -0.003349     -0.005720       0.034037"
      ]
     },
     "execution_count": 96,
     "metadata": {},
     "output_type": "execute_result"
    }
   ],
   "source": [
    "# Daily returns\n",
    "\n",
    "daily_returns = data.pct_change()\n",
    "daily_returns.head()"
   ]
  },
  {
   "cell_type": "code",
   "execution_count": 105,
   "metadata": {},
   "outputs": [
    {
     "name": "stdout",
     "output_type": "stream",
     "text": [
      "ITC.NS          -0.049153\n",
      "WIPRO.NS         0.156647\n",
      "INFY.NS          0.583641\n",
      "ICICIBANK.NS     0.255495\n",
      "ADANIPORTS.NS    0.042776\n",
      "dtype: float64\n"
     ]
    }
   ],
   "source": [
    "#Annualized Returns  N in years: rate = (1+Return)^(1/N)-1\n",
    "                #    N in months: rate = (1+Return)^(12/N)-1\n",
    "annual_returns = (pow(daily_returns.mean()+1,(365))-1)\n",
    "print(annual_returns)\n"
   ]
  },
  {
   "cell_type": "code",
   "execution_count": 106,
   "metadata": {},
   "outputs": [
    {
     "data": {
      "text/plain": [
       "5"
      ]
     },
     "execution_count": 106,
     "metadata": {},
     "output_type": "execute_result"
    }
   ],
   "source": [
    "#No of eggs in basket\n",
    "\n",
    "num = len(random_selection)\n",
    "num"
   ]
  },
  {
   "cell_type": "code",
   "execution_count": 107,
   "metadata": {},
   "outputs": [
    {
     "data": {
      "text/plain": [
       "array([0.24473561, 0.27010847, 0.22510496, 0.16585617, 0.09419478])"
      ]
     },
     "execution_count": 107,
     "metadata": {},
     "output_type": "execute_result"
    }
   ],
   "source": [
    "#weights of each egg - proportion\n",
    "\n",
    "weights = np.random.random(num)\n",
    "weights = weights/sum(weights)\n",
    "weights"
   ]
  },
  {
   "cell_type": "code",
   "execution_count": 108,
   "metadata": {},
   "outputs": [
    {
     "data": {
      "text/plain": [
       "1.0"
      ]
     },
     "execution_count": 108,
     "metadata": {},
     "output_type": "execute_result"
    }
   ],
   "source": [
    "sum(weights)"
   ]
  },
  {
   "cell_type": "code",
   "execution_count": 109,
   "metadata": {},
   "outputs": [
    {
     "data": {
      "text/plain": [
       "0.20806723010618441"
      ]
     },
     "execution_count": 109,
     "metadata": {},
     "output_type": "execute_result"
    }
   ],
   "source": [
    "#Expected Returns of Portfolio\n",
    "\n",
    "portfolio_ER= np.sum(weights*annual_returns)\n",
    "portfolio_ER"
   ]
  },
  {
   "cell_type": "code",
   "execution_count": 110,
   "metadata": {},
   "outputs": [
    {
     "name": "stdout",
     "output_type": "stream",
     "text": [
      "Expected Rate of Return: 20.81%\n"
     ]
    }
   ],
   "source": [
    "print('Expected Rate of Return:',str(round(portfolio_ER * 100, 2)) + '%')"
   ]
  }
 ],
 "metadata": {
  "kernelspec": {
   "display_name": "Python 3",
   "language": "python",
   "name": "python3"
  },
  "language_info": {
   "codemirror_mode": {
    "name": "ipython",
    "version": 3
   },
   "file_extension": ".py",
   "mimetype": "text/x-python",
   "name": "python",
   "nbconvert_exporter": "python",
   "pygments_lexer": "ipython3",
   "version": "3.7.4"
  }
 },
 "nbformat": 4,
 "nbformat_minor": 2
}
