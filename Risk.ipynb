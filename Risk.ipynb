{
 "cells": [
  {
   "cell_type": "markdown",
   "metadata": {},
   "source": [
    "## Calculating Risk of a stock\n",
    "\n",
    "Risk (Price Volatilities) - Standard Deviation"
   ]
  },
  {
   "cell_type": "code",
   "execution_count": 4,
   "metadata": {},
   "outputs": [],
   "source": [
    "import numpy as np\n",
    "import pandas as pd\n",
    "from pandas_datareader import data as web\n",
    "from datetime import datetime\n",
    "import matplotlib.pyplot as plt\n",
    "import random\n",
    "%matplotlib inline"
   ]
  },
  {
   "cell_type": "code",
   "execution_count": 12,
   "metadata": {},
   "outputs": [
    {
     "name": "stdout",
     "output_type": "stream",
     "text": [
      "Date:  2020-08-24 14:20:09.678397\n"
     ]
    }
   ],
   "source": [
    "start = datetime(2018, 1, 1)\n",
    "end   = datetime.today()\n",
    "print('Date: ',end)"
   ]
  },
  {
   "cell_type": "code",
   "execution_count": 14,
   "metadata": {},
   "outputs": [],
   "source": [
    "dmart = web.DataReader('DMART.NS',data_source = 'yahoo',start = start,end = end)"
   ]
  },
  {
   "cell_type": "code",
   "execution_count": 15,
   "metadata": {},
   "outputs": [
    {
     "data": {
      "text/html": [
       "<div>\n",
       "<style scoped>\n",
       "    .dataframe tbody tr th:only-of-type {\n",
       "        vertical-align: middle;\n",
       "    }\n",
       "\n",
       "    .dataframe tbody tr th {\n",
       "        vertical-align: top;\n",
       "    }\n",
       "\n",
       "    .dataframe thead th {\n",
       "        text-align: right;\n",
       "    }\n",
       "</style>\n",
       "<table border=\"1\" class=\"dataframe\">\n",
       "  <thead>\n",
       "    <tr style=\"text-align: right;\">\n",
       "      <th></th>\n",
       "      <th>High</th>\n",
       "      <th>Low</th>\n",
       "      <th>Open</th>\n",
       "      <th>Close</th>\n",
       "      <th>Volume</th>\n",
       "      <th>Adj Close</th>\n",
       "    </tr>\n",
       "    <tr>\n",
       "      <th>Date</th>\n",
       "      <th></th>\n",
       "      <th></th>\n",
       "      <th></th>\n",
       "      <th></th>\n",
       "      <th></th>\n",
       "      <th></th>\n",
       "    </tr>\n",
       "  </thead>\n",
       "  <tbody>\n",
       "    <tr>\n",
       "      <td>2018-01-01</td>\n",
       "      <td>1193.250000</td>\n",
       "      <td>1166.000000</td>\n",
       "      <td>1188.300049</td>\n",
       "      <td>1170.500000</td>\n",
       "      <td>334392.0</td>\n",
       "      <td>1170.500000</td>\n",
       "    </tr>\n",
       "    <tr>\n",
       "      <td>2018-01-02</td>\n",
       "      <td>1178.199951</td>\n",
       "      <td>1155.599976</td>\n",
       "      <td>1173.699951</td>\n",
       "      <td>1160.000000</td>\n",
       "      <td>302709.0</td>\n",
       "      <td>1160.000000</td>\n",
       "    </tr>\n",
       "    <tr>\n",
       "      <td>2018-01-03</td>\n",
       "      <td>1204.400024</td>\n",
       "      <td>1160.000000</td>\n",
       "      <td>1162.699951</td>\n",
       "      <td>1184.550049</td>\n",
       "      <td>580610.0</td>\n",
       "      <td>1184.550049</td>\n",
       "    </tr>\n",
       "    <tr>\n",
       "      <td>2018-01-04</td>\n",
       "      <td>1215.000000</td>\n",
       "      <td>1186.000000</td>\n",
       "      <td>1187.849976</td>\n",
       "      <td>1203.099976</td>\n",
       "      <td>707905.0</td>\n",
       "      <td>1203.099976</td>\n",
       "    </tr>\n",
       "    <tr>\n",
       "      <td>2018-01-05</td>\n",
       "      <td>1268.000000</td>\n",
       "      <td>1208.550049</td>\n",
       "      <td>1210.099976</td>\n",
       "      <td>1243.400024</td>\n",
       "      <td>1244328.0</td>\n",
       "      <td>1243.400024</td>\n",
       "    </tr>\n",
       "  </tbody>\n",
       "</table>\n",
       "</div>"
      ],
      "text/plain": [
       "                   High          Low         Open        Close     Volume  \\\n",
       "Date                                                                        \n",
       "2018-01-01  1193.250000  1166.000000  1188.300049  1170.500000   334392.0   \n",
       "2018-01-02  1178.199951  1155.599976  1173.699951  1160.000000   302709.0   \n",
       "2018-01-03  1204.400024  1160.000000  1162.699951  1184.550049   580610.0   \n",
       "2018-01-04  1215.000000  1186.000000  1187.849976  1203.099976   707905.0   \n",
       "2018-01-05  1268.000000  1208.550049  1210.099976  1243.400024  1244328.0   \n",
       "\n",
       "              Adj Close  \n",
       "Date                     \n",
       "2018-01-01  1170.500000  \n",
       "2018-01-02  1160.000000  \n",
       "2018-01-03  1184.550049  \n",
       "2018-01-04  1203.099976  \n",
       "2018-01-05  1243.400024  "
      ]
     },
     "execution_count": 15,
     "metadata": {},
     "output_type": "execute_result"
    }
   ],
   "source": [
    "dmart.head()"
   ]
  },
  {
   "cell_type": "code",
   "execution_count": 22,
   "metadata": {},
   "outputs": [
    {
     "data": {
      "text/plain": [
       "Date\n",
       "2018-01-01    1170.500000\n",
       "2018-01-02    1160.000000\n",
       "2018-01-03    1184.550049\n",
       "2018-01-04    1203.099976\n",
       "2018-01-05    1243.400024\n",
       "Name: Adj Close, dtype: float64"
      ]
     },
     "execution_count": 22,
     "metadata": {},
     "output_type": "execute_result"
    }
   ],
   "source": [
    "dmart_close = dmart['Adj Close']\n",
    "dmart_close.head()"
   ]
  },
  {
   "cell_type": "code",
   "execution_count": 23,
   "metadata": {},
   "outputs": [
    {
     "data": {
      "text/plain": [
       "Date\n",
       "2018-01-01         NaN\n",
       "2018-01-02   -0.008971\n",
       "2018-01-03    0.021164\n",
       "2018-01-04    0.015660\n",
       "2018-01-05    0.033497\n",
       "Name: Adj Close, dtype: float64"
      ]
     },
     "execution_count": 23,
     "metadata": {},
     "output_type": "execute_result"
    }
   ],
   "source": [
    "daily_returns = dmart_close.pct_change()\n",
    "daily_returns.head()"
   ]
  },
  {
   "cell_type": "code",
   "execution_count": 28,
   "metadata": {},
   "outputs": [
    {
     "data": {
      "text/plain": [
       "0.022403694601317848"
      ]
     },
     "execution_count": 28,
     "metadata": {},
     "output_type": "execute_result"
    }
   ],
   "source": [
    "risk = daily_returns.std()\n",
    "risk"
   ]
  },
  {
   "cell_type": "code",
   "execution_count": 39,
   "metadata": {},
   "outputs": [
    {
     "name": "stdout",
     "output_type": "stream",
     "text": [
      "2.2404%\n"
     ]
    }
   ],
   "source": [
    "print(str(round(risk,6)*100) + '%')"
   ]
  },
  {
   "cell_type": "code",
   "execution_count": 43,
   "metadata": {},
   "outputs": [
    {
     "data": {
      "image/png": "[encoded data removed]",
      "text/plain": [
       "<Figure size 576x432 with 1 Axes>"
      ]
     },
     "metadata": {
      "needs_background": "light"
     },
     "output_type": "display_data"
    }
   ],
   "source": [
    "daily_returns.hist(bins = 50, alpha=0.8, color='g', figsize=(8,6));"
   ]
  },
  {
   "cell_type": "code",
   "execution_count": 45,
   "metadata": {},
   "outputs": [
    {
     "data": {
      "text/html": [
       "<div>\n",
       "<style scoped>\n",
       "    .dataframe tbody tr th:only-of-type {\n",
       "        vertical-align: middle;\n",
       "    }\n",
       "\n",
       "    .dataframe tbody tr th {\n",
       "        vertical-align: top;\n",
       "    }\n",
       "\n",
       "    .dataframe thead th {\n",
       "        text-align: right;\n",
       "    }\n",
       "</style>\n",
       "<table border=\"1\" class=\"dataframe\">\n",
       "  <thead>\n",
       "    <tr style=\"text-align: right;\">\n",
       "      <th></th>\n",
       "      <th>DMART.NS</th>\n",
       "      <th>RELIANCE.NS</th>\n",
       "      <th>SUNFLAG.NS</th>\n",
       "    </tr>\n",
       "    <tr>\n",
       "      <th>Date</th>\n",
       "      <th></th>\n",
       "      <th></th>\n",
       "      <th></th>\n",
       "    </tr>\n",
       "  </thead>\n",
       "  <tbody>\n",
       "    <tr>\n",
       "      <td>2018-01-01</td>\n",
       "      <td>1170.500000</td>\n",
       "      <td>895.929260</td>\n",
       "      <td>79.519279</td>\n",
       "    </tr>\n",
       "    <tr>\n",
       "      <td>2018-01-02</td>\n",
       "      <td>1160.000000</td>\n",
       "      <td>897.308044</td>\n",
       "      <td>78.837967</td>\n",
       "    </tr>\n",
       "    <tr>\n",
       "      <td>2018-01-03</td>\n",
       "      <td>1184.550049</td>\n",
       "      <td>900.902649</td>\n",
       "      <td>80.443932</td>\n",
       "    </tr>\n",
       "    <tr>\n",
       "      <td>2018-01-04</td>\n",
       "      <td>1203.099976</td>\n",
       "      <td>906.319092</td>\n",
       "      <td>81.855217</td>\n",
       "    </tr>\n",
       "    <tr>\n",
       "      <td>2018-01-05</td>\n",
       "      <td>1243.400024</td>\n",
       "      <td>909.224243</td>\n",
       "      <td>80.979248</td>\n",
       "    </tr>\n",
       "  </tbody>\n",
       "</table>\n",
       "</div>"
      ],
      "text/plain": [
       "               DMART.NS  RELIANCE.NS  SUNFLAG.NS\n",
       "Date                                            \n",
       "2018-01-01  1170.500000   895.929260   79.519279\n",
       "2018-01-02  1160.000000   897.308044   78.837967\n",
       "2018-01-03  1184.550049   900.902649   80.443932\n",
       "2018-01-04  1203.099976   906.319092   81.855217\n",
       "2018-01-05  1243.400024   909.224243   80.979248"
      ]
     },
     "execution_count": 45,
     "metadata": {},
     "output_type": "execute_result"
    }
   ],
   "source": [
    "assets = ['DMART.NS', 'RELIANCE.NS', 'SUNFLAG.NS']\n",
    "\n",
    "df = pd.DataFrame()\n",
    "\n",
    "for stock in assets:\n",
    "    df[stock] = web.DataReader(stock, data_source = 'yahoo', start=start, end=end)['Adj Close']\n",
    "\n",
    "df.head()"
   ]
  },
  {
   "cell_type": "code",
   "execution_count": 46,
   "metadata": {},
   "outputs": [
    {
     "data": {
      "text/html": [
       "<div>\n",
       "<style scoped>\n",
       "    .dataframe tbody tr th:only-of-type {\n",
       "        vertical-align: middle;\n",
       "    }\n",
       "\n",
       "    .dataframe tbody tr th {\n",
       "        vertical-align: top;\n",
       "    }\n",
       "\n",
       "    .dataframe thead th {\n",
       "        text-align: right;\n",
       "    }\n",
       "</style>\n",
       "<table border=\"1\" class=\"dataframe\">\n",
       "  <thead>\n",
       "    <tr style=\"text-align: right;\">\n",
       "      <th></th>\n",
       "      <th>DMART.NS</th>\n",
       "      <th>RELIANCE.NS</th>\n",
       "      <th>SUNFLAG.NS</th>\n",
       "    </tr>\n",
       "    <tr>\n",
       "      <th>Date</th>\n",
       "      <th></th>\n",
       "      <th></th>\n",
       "      <th></th>\n",
       "    </tr>\n",
       "  </thead>\n",
       "  <tbody>\n",
       "    <tr>\n",
       "      <td>2018-01-01</td>\n",
       "      <td>NaN</td>\n",
       "      <td>NaN</td>\n",
       "      <td>NaN</td>\n",
       "    </tr>\n",
       "    <tr>\n",
       "      <td>2018-01-02</td>\n",
       "      <td>-0.008971</td>\n",
       "      <td>0.001539</td>\n",
       "      <td>-0.008568</td>\n",
       "    </tr>\n",
       "    <tr>\n",
       "      <td>2018-01-03</td>\n",
       "      <td>0.021164</td>\n",
       "      <td>0.004006</td>\n",
       "      <td>0.020370</td>\n",
       "    </tr>\n",
       "    <tr>\n",
       "      <td>2018-01-04</td>\n",
       "      <td>0.015660</td>\n",
       "      <td>0.006012</td>\n",
       "      <td>0.017544</td>\n",
       "    </tr>\n",
       "    <tr>\n",
       "      <td>2018-01-05</td>\n",
       "      <td>0.033497</td>\n",
       "      <td>0.003205</td>\n",
       "      <td>-0.010701</td>\n",
       "    </tr>\n",
       "  </tbody>\n",
       "</table>\n",
       "</div>"
      ],
      "text/plain": [
       "            DMART.NS  RELIANCE.NS  SUNFLAG.NS\n",
       "Date                                         \n",
       "2018-01-01       NaN          NaN         NaN\n",
       "2018-01-02 -0.008971     0.001539   -0.008568\n",
       "2018-01-03  0.021164     0.004006    0.020370\n",
       "2018-01-04  0.015660     0.006012    0.017544\n",
       "2018-01-05  0.033497     0.003205   -0.010701"
      ]
     },
     "execution_count": 46,
     "metadata": {},
     "output_type": "execute_result"
    }
   ],
   "source": [
    "asset_daily_returns = df.pct_change()\n",
    "asset_daily_returns.head()"
   ]
  },
  {
   "cell_type": "code",
   "execution_count": 47,
   "metadata": {},
   "outputs": [
    {
     "data": {
      "text/plain": [
       "DMART.NS       0.022404\n",
       "RELIANCE.NS    0.022374\n",
       "SUNFLAG.NS     0.036225\n",
       "dtype: float64"
      ]
     },
     "execution_count": 47,
     "metadata": {},
     "output_type": "execute_result"
    }
   ],
   "source": [
    "asset_risk = asset_daily_returns.std()\n",
    "asset_risk"
   ]
  },
  {
   "cell_type": "code",
   "execution_count": 50,
   "metadata": {},
   "outputs": [
    {
     "data": {
      "image/png": "[encoded data removed]",
      "text/plain": [
       "<Figure size 720x432 with 1 Axes>"
      ]
     },
     "metadata": {
      "needs_background": "light"
     },
     "output_type": "display_data"
    }
   ],
   "source": [
    "asset_daily_returns.plot.hist(bins=50, figsize = (10,6));"
   ]
  },
  {
   "cell_type": "code",
   "execution_count": 51,
   "metadata": {},
   "outputs": [
    {
     "data": {
      "text/plain": [
       "0.036224744331727336"
      ]
     },
     "execution_count": 51,
     "metadata": {},
     "output_type": "execute_result"
    }
   ],
   "source": [
    "asset_risk.max()"
   ]
  },
  {
   "cell_type": "code",
   "execution_count": 52,
   "metadata": {},
   "outputs": [
    {
     "data": {
      "text/plain": [
       "0.022373525674237834"
      ]
     },
     "execution_count": 52,
     "metadata": {},
     "output_type": "execute_result"
    }
   ],
   "source": [
    "asset_risk.min()"
   ]
  }
 ],
 "metadata": {
  "kernelspec": {
   "display_name": "Python 3",
   "language": "python",
   "name": "python3"
  },
  "language_info": {
   "codemirror_mode": {
    "name": "ipython",
    "version": 3
   },
   "file_extension": ".py",
   "mimetype": "text/x-python",
   "name": "python",
   "nbconvert_exporter": "python",
   "pygments_lexer": "ipython3",
   "version": "3.7.4"
  }
 },
 "nbformat": 4,
 "nbformat_minor": 2
}
